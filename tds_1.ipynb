{
  "nbformat": 4,
  "nbformat_minor": 0,
  "metadata": {
    "colab": {
      "provenance": [],
      "authorship_tag": "ABX9TyO2PviiOtlpZl8Xehc+GYk0"
    },
    "kernelspec": {
      "name": "python3",
      "display_name": "Python 3"
    },
    "language_info": {
      "name": "python"
    }
  },
  "cells": [
    {
      "cell_type": "code",
      "source": [
        "import requests\n",
        "import pandas as pd\n",
        "\n",
        "GITHUB_TOKEN = ''\n",
        "\n",
        "user_url = 'https://api.github.com/search/users'\n",
        "params = {\n",
        "    'q': 'location:\"Shanghai\" followers:>200',\n",
        "    'sort': 'followers',\n",
        "    'order': 'desc',\n",
        "    'per_page': 100,\n",
        "    'page': 1\n",
        "}\n",
        "\n",
        "headers = {\n",
        "    'Authorization': f'token {GITHUB_TOKEN}'\n",
        "}\n",
        "\n",
        "user_data = []\n",
        "while True:\n",
        "    response = requests.get(user_url, headers=headers, params=params)\n",
        "    if response.status_code == 200:\n",
        "        data = response.json()\n",
        "        users = data.get('items', [])\n",
        "\n",
        "        if not users:\n",
        "            break\n",
        "        for user in users:\n",
        "            user_info = {\n",
        "                'login': user.get('login'),\n",
        "            }\n",
        "            user_data.append(user_info)\n",
        "        params['page'] += 1\n",
        "    else:\n",
        "        print(f\"Error: {response.status_code} - {response.text}\")\n",
        "        break\n",
        "\n",
        "for user in user_data:\n",
        "    user_details_response = requests.get(f\"https://api.github.com/users/{user['login']}\", headers=headers)\n",
        "\n",
        "    if user_details_response.status_code == 200:\n",
        "        user_details = user_details_response.json()\n",
        "        user['name'] = user_details.get('name')\n",
        "        user['company'] = user_details.get('company').strip().lstrip('@').upper() if user_details.get('company') else ''\n",
        "        user['location'] = user_details.get('location')\n",
        "        user['email'] = user_details.get('email')\n",
        "        user['hireable'] = user_details.get('hireable')\n",
        "        user['bio'] = user_details.get('bio')\n",
        "        user['public_repos'] = user_details.get('public_repos')\n",
        "        user['followers'] = user_details.get('followers')\n",
        "        user['following'] = user_details.get('following')\n",
        "        user['created_at'] = user_details.get('created_at')\n",
        "    else:\n",
        "        print(f\"Error fetching details for {user['login']}: {user_details_response.status_code}\")\n",
        "\n",
        "df = pd.DataFrame(user_data)\n",
        "df.to_csv('users.csv', index=False)\n",
        "\n",
        "print(\"Data saved to users.csv\")\n",
        "\n",
        "from google.colab import files\n",
        "files.download('users.csv')\n"
      ],
      "metadata": {
        "colab": {
          "base_uri": "https://localhost:8080/",
          "height": 34
        },
        "id": "DvF0logaf69J",
        "outputId": "9b69711f-6000-4d78-ed4f-09c36f07ad1a"
      },
      "execution_count": null,
      "outputs": [
        {
          "output_type": "stream",
          "name": "stdout",
          "text": [
            "Data saved to users.csv\n"
          ]
        },
        {
          "output_type": "display_data",
          "data": {
            "text/plain": [
              "<IPython.core.display.Javascript object>"
            ],
            "application/javascript": [
              "\n",
              "    async function download(id, filename, size) {\n",
              "      if (!google.colab.kernel.accessAllowed) {\n",
              "        return;\n",
              "      }\n",
              "      const div = document.createElement('div');\n",
              "      const label = document.createElement('label');\n",
              "      label.textContent = `Downloading \"${filename}\": `;\n",
              "      div.appendChild(label);\n",
              "      const progress = document.createElement('progress');\n",
              "      progress.max = size;\n",
              "      div.appendChild(progress);\n",
              "      document.body.appendChild(div);\n",
              "\n",
              "      const buffers = [];\n",
              "      let downloaded = 0;\n",
              "\n",
              "      const channel = await google.colab.kernel.comms.open(id);\n",
              "      // Send a message to notify the kernel that we're ready.\n",
              "      channel.send({})\n",
              "\n",
              "      for await (const message of channel.messages) {\n",
              "        // Send a message to notify the kernel that we're ready.\n",
              "        channel.send({})\n",
              "        if (message.buffers) {\n",
              "          for (const buffer of message.buffers) {\n",
              "            buffers.push(buffer);\n",
              "            downloaded += buffer.byteLength;\n",
              "            progress.value = downloaded;\n",
              "          }\n",
              "        }\n",
              "      }\n",
              "      const blob = new Blob(buffers, {type: 'application/binary'});\n",
              "      const a = document.createElement('a');\n",
              "      a.href = window.URL.createObjectURL(blob);\n",
              "      a.download = filename;\n",
              "      div.appendChild(a);\n",
              "      a.click();\n",
              "      div.remove();\n",
              "    }\n",
              "  "
            ]
          },
          "metadata": {}
        },
        {
          "output_type": "display_data",
          "data": {
            "text/plain": [
              "<IPython.core.display.Javascript object>"
            ],
            "application/javascript": [
              "download(\"download_c0ab109d-e1c5-46d8-8d45-06da99475a61\", \"users.csv\", 95399)"
            ]
          },
          "metadata": {}
        }
      ]
    },
    {
      "cell_type": "code",
      "source": [
        "GITHUB_TOKEN = ''\n",
        "\n",
        "user_url = 'https://api.github.com/search/users'\n",
        "params = {\n",
        "    'q': 'location:\"Shanghai\" followers:>200',\n",
        "    'sort': 'followers',\n",
        "    'order': 'desc',\n",
        "    'per_page': 100,\n",
        "    'page': 1\n",
        "}\n",
        "\n",
        "headers = {\n",
        "    'Authorization': f'token {GITHUB_TOKEN}'\n",
        "}\n",
        "\n",
        "user_data = []\n",
        "while True:\n",
        "    response = requests.get(user_url, headers=headers, params=params)\n",
        "    if response.status_code == 200:\n",
        "        data = response.json()\n",
        "        users = data.get('items', [])\n",
        "\n",
        "        if not users:\n",
        "            break\n",
        "\n",
        "        for user in users:\n",
        "            user_info = {'login': user.get('login')}\n",
        "            user_data.append(user_info)\n",
        "\n",
        "        params['page'] += 1\n",
        "    else:\n",
        "        print(f\"Error fetching users: {response.status_code}\")\n",
        "        break\n",
        "\n",
        "for user in user_data:\n",
        "    user_details_response = requests.get(f\"https://api.github.com/users/{user['login']}\", headers=headers)\n",
        "\n",
        "    if user_details_response.status_code == 200:\n",
        "        user_details = user_details_response.json()\n",
        "        user['name'] = user_details.get('name', '')\n",
        "        user['company'] = user_details.get('company', '').strip().lstrip('@').upper() if user_details.get('company') else ''\n",
        "        user['location'] = user_details.get('location', 'Shanghai')\n",
        "        user['email'] = user_details.get('email', '')\n",
        "        user['hireable'] = user_details.get('hireable', False)\n",
        "        user['bio'] = user_details.get('bio', '')\n",
        "        user['public_repos'] = user_details.get('public_repos', 0)\n",
        "        user['followers'] = user_details.get('followers', 0)\n",
        "        user['following'] = user_details.get('following', 0)\n",
        "        user['created_at'] = user_details.get('created_at', '')\n",
        "    else:\n",
        "        print(f\"Error fetching details for {user['login']}: {user_details_response.status_code}\")\n",
        "\n",
        "users_df = pd.DataFrame(user_data)\n",
        "users_df.to_csv('users.csv', index=False)\n",
        "\n",
        "repositories_data = []\n",
        "\n",
        "for user in user_data:\n",
        "    login = user['login']\n",
        "    repos_url = f\"https://api.github.com/users/{login}/repos?sort=updated&per_page=100\"\n",
        "\n",
        "    page = 1\n",
        "    while True:\n",
        "        response = requests.get(f\"{repos_url}&page={page}\", headers=headers)\n",
        "\n",
        "        if response.status_code == 200:\n",
        "            repos = response.json()\n",
        "            if not repos:\n",
        "                break\n",
        "\n",
        "            for repo in repos:\n",
        "                repo_info = {\n",
        "                    'login': login,\n",
        "                    'full_name': repo.get('full_name'),\n",
        "                    'created_at': repo.get('created_at'),\n",
        "                    'stargazers_count': repo.get('stargazers_count', 0),\n",
        "                    'watchers_count': repo.get('watchers_count', 0),\n",
        "                    'language': repo.get('language', ''),\n",
        "                    'has_projects': repo.get('has_projects', False),\n",
        "                    'has_wiki': repo.get('has_wiki', False),\n",
        "                    'license_name': repo.get('license')['name'] if repo.get('license') else ''\n",
        "                }\n",
        "                repositories_data.append(repo_info)\n",
        "\n",
        "                if len(repositories_data) % 500 == 0:\n",
        "                    break\n",
        "\n",
        "            page += 1\n",
        "\n",
        "        else:\n",
        "            print(f\"Error fetching repositories for {login}: {response.status_code}\")\n",
        "            break\n",
        "\n",
        "repos_df = pd.DataFrame(repositories_data)\n",
        "repos_df.to_csv('repositories.csv', index=False)\n",
        "\n",
        "print(\"Data saved to users.csv and repositories.csv\")\n",
        "\n",
        "from google.colab import files\n",
        "files.download('repositories.csv')\n"
      ],
      "metadata": {
        "colab": {
          "base_uri": "https://localhost:8080/",
          "height": 34
        },
        "id": "ZilTgVi0ve5S",
        "outputId": "b07c6291-62a6-4905-c646-672d685fe69a"
      },
      "execution_count": null,
      "outputs": [
        {
          "output_type": "stream",
          "name": "stdout",
          "text": [
            "Data saved to users.csv and repositories.csv\n"
          ]
        },
        {
          "output_type": "display_data",
          "data": {
            "text/plain": [
              "<IPython.core.display.Javascript object>"
            ],
            "application/javascript": [
              "\n",
              "    async function download(id, filename, size) {\n",
              "      if (!google.colab.kernel.accessAllowed) {\n",
              "        return;\n",
              "      }\n",
              "      const div = document.createElement('div');\n",
              "      const label = document.createElement('label');\n",
              "      label.textContent = `Downloading \"${filename}\": `;\n",
              "      div.appendChild(label);\n",
              "      const progress = document.createElement('progress');\n",
              "      progress.max = size;\n",
              "      div.appendChild(progress);\n",
              "      document.body.appendChild(div);\n",
              "\n",
              "      const buffers = [];\n",
              "      let downloaded = 0;\n",
              "\n",
              "      const channel = await google.colab.kernel.comms.open(id);\n",
              "      // Send a message to notify the kernel that we're ready.\n",
              "      channel.send({})\n",
              "\n",
              "      for await (const message of channel.messages) {\n",
              "        // Send a message to notify the kernel that we're ready.\n",
              "        channel.send({})\n",
              "        if (message.buffers) {\n",
              "          for (const buffer of message.buffers) {\n",
              "            buffers.push(buffer);\n",
              "            downloaded += buffer.byteLength;\n",
              "            progress.value = downloaded;\n",
              "          }\n",
              "        }\n",
              "      }\n",
              "      const blob = new Blob(buffers, {type: 'application/binary'});\n",
              "      const a = document.createElement('a');\n",
              "      a.href = window.URL.createObjectURL(blob);\n",
              "      a.download = filename;\n",
              "      div.appendChild(a);\n",
              "      a.click();\n",
              "      div.remove();\n",
              "    }\n",
              "  "
            ]
          },
          "metadata": {}
        },
        {
          "output_type": "display_data",
          "data": {
            "text/plain": [
              "<IPython.core.display.Javascript object>"
            ],
            "application/javascript": [
              "download(\"download_8c56eebc-a976-4f5f-a891-5a876c619fe2\", \"repositories.csv\", 5701651)"
            ]
          },
          "metadata": {}
        }
      ]
    },
    {
      "cell_type": "code",
      "source": [
        "import pandas as pd\n",
        "from collections import Counter\n",
        "\n",
        "repos_df = pd.read_csv('repositories.csv')\n",
        "license_names = repos_df['license_name'].dropna().tolist()\n",
        "license_counts = Counter(license_names)\n",
        "most_common_licenses = license_counts.most_common(3)\n",
        "top_3_licenses = [license[0] for license in most_common_licenses]\n",
        "top_3_licenses_str = ', '.join(top_3_licenses)\n",
        "print(\"Top 3 licenses:\", top_3_licenses_str)\n"
      ],
      "metadata": {
        "colab": {
          "base_uri": "https://localhost:8080/"
        },
        "id": "oojjHao1C62W",
        "outputId": "fb224d66-0a53-49af-d35e-7d0201367bb1"
      },
      "execution_count": null,
      "outputs": [
        {
          "output_type": "stream",
          "name": "stdout",
          "text": [
            "Top 3 licenses: MIT License, Apache License 2.0, Other\n"
          ]
        }
      ]
    },
    {
      "cell_type": "code",
      "source": [
        "import pandas as pd\n",
        "\n",
        "repos_df = pd.read_csv('repositories.csv')\n",
        "average_stars_per_language = repos_df.groupby('language')['stargazers_count'].mean()\n",
        "highest_avg_language = average_stars_per_language.idxmax()\n",
        "highest_avg_stars = average_stars_per_language.max()\n",
        "print(f\"The language with the highest average number of stars per repository is '{highest_avg_language}' with an average of {highest_avg_stars:.2f} stars.\")\n"
      ],
      "metadata": {
        "colab": {
          "base_uri": "https://localhost:8080/"
        },
        "id": "sK3clNhQDIY9",
        "outputId": "ad4bed74-6f3d-48ee-c2c0-5c7007826f33"
      },
      "execution_count": null,
      "outputs": [
        {
          "output_type": "stream",
          "name": "stdout",
          "text": [
            "The language with the highest average number of stars per repository is 'Rich Text Format' with an average of 1494.14 stars.\n"
          ]
        }
      ]
    },
    {
      "cell_type": "code",
      "source": [
        "import pandas as pd\n",
        "\n",
        "\n",
        "users_df = pd.read_csv('users.csv')\n",
        "users_df['leader_strength'] = users_df['followers'] / (1 + users_df['following'])\n",
        "top_5_users = users_df.nlargest(5, 'leader_strength')\n",
        "top_5_logins = ', '.join(top_5_users['login'].tolist())\n",
        "print(\"Top 5 users by leader_strength:\", top_5_logins)\n"
      ],
      "metadata": {
        "colab": {
          "base_uri": "https://localhost:8080/"
        },
        "id": "GPwgN18uDS30",
        "outputId": "e49a9fbe-333f-45dc-9cfb-506dfb9a42ff"
      },
      "execution_count": null,
      "outputs": [
        {
          "output_type": "stream",
          "name": "stdout",
          "text": [
            "Top 5 users by leader_strength: ruanyf, peng-zhihui, espressif, vnpy, bilibili\n"
          ]
        }
      ]
    },
    {
      "cell_type": "code",
      "source": [
        "import pandas as pd\n",
        "\n",
        "users_df = pd.read_csv('users.csv')\n",
        "correlation = users_df['followers'].corr(users_df['public_repos'])\n",
        "print(f\"Correlation between followers and public repositories: {correlation:.3f}\")"
      ],
      "metadata": {
        "colab": {
          "base_uri": "https://localhost:8080/"
        },
        "id": "YAhA3y5GDepP",
        "outputId": "22082407-0653-400e-e5e7-fe8f52acdded"
      },
      "execution_count": null,
      "outputs": [
        {
          "output_type": "stream",
          "name": "stdout",
          "text": [
            "Correlation between followers and public repositories: -0.005\n"
          ]
        }
      ]
    },
    {
      "cell_type": "code",
      "source": [
        "import pandas as pd\n",
        "from scipy.stats import linregress\n",
        "\n",
        "users_df = pd.read_csv('users.csv')\n",
        "slope, intercept, r_value, p_value, std_err = linregress(users_df['public_repos'], users_df['followers'])\n",
        "print(f\"Regression slope of followers on public repositories: {slope:.3f}\")\n"
      ],
      "metadata": {
        "colab": {
          "base_uri": "https://localhost:8080/"
        },
        "id": "aKYBAjCsDoEt",
        "outputId": "21b36c73-493b-41ef-eb47-26fe51a0dbfc"
      },
      "execution_count": null,
      "outputs": [
        {
          "output_type": "stream",
          "name": "stdout",
          "text": [
            "Regression slope of followers on public repositories: -0.054\n"
          ]
        }
      ]
    },
    {
      "cell_type": "code",
      "source": [
        "import pandas as pd\n",
        "\n",
        "repos_df = pd.read_csv('repositories.csv')\n",
        "\n",
        "repos_df['has_projects'] = repos_df['has_projects'].astype(int)\n",
        "repos_df['has_wiki'] = repos_df['has_wiki'].astype(int)\n",
        "correlation = repos_df['has_projects'].corr(repos_df['has_wiki'])\n",
        "print(f\"Correlation between projects and wiki enabled: {correlation:.3f}\")\n"
      ],
      "metadata": {
        "colab": {
          "base_uri": "https://localhost:8080/"
        },
        "id": "ZkMimc8RDyW_",
        "outputId": "136a9d7a-729d-4dc9-8733-b5495f174be3"
      },
      "execution_count": null,
      "outputs": [
        {
          "output_type": "stream",
          "name": "stdout",
          "text": [
            "Correlation between projects and wiki enabled: 0.280\n"
          ]
        }
      ]
    },
    {
      "cell_type": "code",
      "source": [
        "import pandas as pd\n",
        "\n",
        "repos_df = pd.read_csv('repositories.csv')\n",
        "repos_df['has_projects'] = repos_df['has_projects'].astype(int)\n",
        "repos_df['has_wiki'] = repos_df['has_wiki'].astype(int)\n",
        "correlation = repos_df['has_projects'].corr(repos_df['has_wiki'])\n",
        "print(f\"Correlation between projects and wiki enabled: {correlation:.3f}\")\n"
      ],
      "metadata": {
        "colab": {
          "base_uri": "https://localhost:8080/"
        },
        "id": "CLTmPE52EBwZ",
        "outputId": "3c3e843b-4e86-460d-f4c9-59c38446a669"
      },
      "execution_count": null,
      "outputs": [
        {
          "output_type": "stream",
          "name": "stdout",
          "text": [
            "Correlation between projects and wiki enabled: 0.280\n"
          ]
        }
      ]
    },
    {
      "cell_type": "code",
      "source": [
        "import pandas as pd\n",
        "\n",
        "repos_df = pd.read_csv('repositories.csv')\n",
        "print(repos_df.head())\n",
        "repos_df['has_projects'] = repos_df['has_projects'].replace({True: 1, False: 0})\n",
        "repos_df['has_wiki'] = repos_df['has_wiki'].replace({True: 1, False: 0})\n",
        "correlation = repos_df['has_projects'].corr(repos_df['has_wiki'])\n",
        "print(f\"Correlation between projects and wiki enabled: {correlation:.3f}\")\n"
      ],
      "metadata": {
        "colab": {
          "base_uri": "https://localhost:8080/"
        },
        "id": "17r4p3R4EMi_",
        "outputId": "aaff4b77-888c-469d-90e9-23db8965d948"
      },
      "execution_count": null,
      "outputs": [
        {
          "output_type": "stream",
          "name": "stdout",
          "text": [
            "         login                       full_name            created_at  \\\n",
            "0  peng-zhihui     peng-zhihui/agibot_x1_train  2024-10-24T05:25:33Z   \n",
            "1  peng-zhihui         peng-zhihui/Dummy-Robot  2021-10-07T11:42:58Z   \n",
            "2  peng-zhihui           peng-zhihui/HoloCubic  2021-01-07T03:24:11Z   \n",
            "3  peng-zhihui         peng-zhihui/ElectronBot  2022-03-11T09:24:44Z   \n",
            "4  peng-zhihui  peng-zhihui/agibot_x1_hardware  2024-10-24T08:57:19Z   \n",
            "\n",
            "   stargazers_count  watchers_count language  has_projects  has_wiki  \\\n",
            "0                29              29      NaN          True     False   \n",
            "1             12220           12220        C          True      True   \n",
            "2              6073            6073        C          True      True   \n",
            "3              7972            7972        C          True      True   \n",
            "4                57              57      NaN          True     False   \n",
            "\n",
            "                      license_name  \n",
            "0                              NaN  \n",
            "1                              NaN  \n",
            "2  GNU General Public License v3.0  \n",
            "3  GNU General Public License v3.0  \n",
            "4                              NaN  \n",
            "Correlation between projects and wiki enabled: 0.280\n"
          ]
        },
        {
          "output_type": "stream",
          "name": "stderr",
          "text": [
            "<ipython-input-32-85c3220b7f78>:10: FutureWarning: Downcasting behavior in `replace` is deprecated and will be removed in a future version. To retain the old behavior, explicitly call `result.infer_objects(copy=False)`. To opt-in to the future behavior, set `pd.set_option('future.no_silent_downcasting', True)`\n",
            "  repos_df['has_projects'] = repos_df['has_projects'].replace({True: 1, False: 0})\n",
            "<ipython-input-32-85c3220b7f78>:11: FutureWarning: Downcasting behavior in `replace` is deprecated and will be removed in a future version. To retain the old behavior, explicitly call `result.infer_objects(copy=False)`. To opt-in to the future behavior, set `pd.set_option('future.no_silent_downcasting', True)`\n",
            "  repos_df['has_wiki'] = repos_df['has_wiki'].replace({True: 1, False: 0})\n"
          ]
        }
      ]
    },
    {
      "cell_type": "code",
      "source": [
        "import pandas as pd\n",
        "\n",
        "users_df = pd.read_csv('users.csv')\n",
        "average_following_hireable = users_df[users_df['hireable'] == True]['following'].mean()\n",
        "average_following_non_hireable = users_df[users_df['hireable'] == False]['following'].mean()\n",
        "difference = average_following_hireable - average_following_non_hireable\n",
        "print(f\"Average following per hireable user minus non-hireable user: {difference:.3f}\")\n"
      ],
      "metadata": {
        "colab": {
          "base_uri": "https://localhost:8080/"
        },
        "id": "agzuE8weEXcD",
        "outputId": "92fd2a95-2e1b-4599-bbab-b207add9c5c8"
      },
      "execution_count": null,
      "outputs": [
        {
          "output_type": "stream",
          "name": "stdout",
          "text": [
            "Average following per hireable user minus non-hireable user: nan\n"
          ]
        }
      ]
    },
    {
      "cell_type": "code",
      "source": [
        "import pandas as pd\n",
        "\n",
        "repos_df = pd.read_csv('repositories.csv')\n",
        "repos_df['created_at'] = pd.to_datetime(repos_df['created_at'])\n",
        "repos_df['weekday'] = repos_df['created_at'].dt.weekday\n",
        "weekend_repos = repos_df[(repos_df['weekday'] == 5) | (repos_df['weekday'] == 6)]\n",
        "user_repo_counts = weekend_repos['login'].value_counts()\n",
        "top_5_users = user_repo_counts.head(5).index.tolist()\n",
        "top_5_logins = ', '.join(top_5_users)\n",
        "print(\"Top 5 users who created the most repositories on weekends:\", top_5_logins)\n"
      ],
      "metadata": {
        "colab": {
          "base_uri": "https://localhost:8080/"
        },
        "id": "1f7vftUzEkW2",
        "outputId": "3f437dba-d83c-4507-ff05-f54af93cc19f"
      },
      "execution_count": null,
      "outputs": [
        {
          "output_type": "stream",
          "name": "stdout",
          "text": [
            "Top 5 users who created the most repositories on weekends: Hengle, j5s, Ewenwan, HiWong, shadowcz007\n"
          ]
        }
      ]
    },
    {
      "cell_type": "code",
      "source": [
        "import pandas as pd\n",
        "users_df = pd.read_csv('users.csv')\n",
        "hireable_with_email = users_df[users_df['hireable'] == True]['email'].notnull().mean()\n",
        "non_hireable_with_email = users_df[users_df['hireable'] == False]['email'].notnull().mean()\n",
        "print(f\"Fraction of users with email (hireable) minus fraction of users with email (non-hireable): {email_fraction_difference:.3f}\")\n"
      ],
      "metadata": {
        "colab": {
          "base_uri": "https://localhost:8080/"
        },
        "id": "Y3L7fynKEzPR",
        "outputId": "0cdf07f8-aa9a-4a13-98ae-74cfc1c56694"
      },
      "execution_count": null,
      "outputs": [
        {
          "output_type": "stream",
          "name": "stdout",
          "text": [
            "Fraction of users with email (hireable) minus fraction of users with email (non-hireable): nan\n"
          ]
        }
      ]
    },
    {
      "cell_type": "code",
      "source": [
        "import pandas as pd\n",
        "from collections import Counter\n",
        "\n",
        "users_df = pd.read_csv('users.csv')\n",
        "\n",
        "surnames = []\n",
        "for name in users_df['name'].dropna():\n",
        "    trimmed_name = name.strip()\n",
        "    surname = trimmed_name.split()[-1]\n",
        "    surnames.append(surname)\n",
        "\n",
        "surname_counts = Counter(surnames)\n",
        "most_common_count = max(surname_counts.values())\n",
        "most_common_surnames = [surname for surname, count in surname_counts.items() if count == most_common_count]\n",
        "most_common_surnames.sort()\n",
        "print(\"Most common surname(s):\", ', '.join(most_common_surnames))\n"
      ],
      "metadata": {
        "colab": {
          "base_uri": "https://localhost:8080/"
        },
        "id": "Cw4ZK5_AFGIX",
        "outputId": "b6df583e-2940-44c4-d904-b8416526261e"
      },
      "execution_count": null,
      "outputs": [
        {
          "output_type": "stream",
          "name": "stdout",
          "text": [
            "Most common surname(s): Zhang\n"
          ]
        }
      ]
    },
    {
      "cell_type": "code",
      "source": [
        "import pandas as pd\n",
        "import statsmodels.api as sm\n",
        "\n",
        "users_df = pd.read_csv('users.csv')\n",
        "users_df['bio_word_count'] = users_df['bio'].dropna().apply(lambda x: len(str(x).split()))\n",
        "filtered_df = users_df[users_df['bio'].notnull()]\n",
        "X = filtered_df['bio_word_count']\n",
        "y = filtered_df['followers']\n",
        "X = sm.add_constant(X)\n",
        "model = sm.OLS(y, X).fit()\n",
        "slope = model.params['bio_word_count']\n",
        "print(f\"Regression slope of followers on bio word count: {slope:.3f}\")\n"
      ],
      "metadata": {
        "colab": {
          "base_uri": "https://localhost:8080/"
        },
        "id": "2aZyQBeYFUzO",
        "outputId": "6edc0261-66db-41a6-93bd-37064b7c8489"
      },
      "execution_count": null,
      "outputs": [
        {
          "output_type": "stream",
          "name": "stdout",
          "text": [
            "Regression slope of followers on bio word count: -42.233\n"
          ]
        }
      ]
    },
    {
      "cell_type": "code",
      "source": [
        "import pandas as pd\n",
        "\n",
        "users_df = pd.read_csv('users.csv')\n",
        "hireable_with_email = users_df[users_df['hireable'] == True]['email'].notnull().mean()\n",
        "non_hireable_with_email = users_df[users_df['hireable'] == \" \"]['email'].notnull().mean()\n",
        "email_fraction_difference = hireable_with_email - non_hireable_with_email\n",
        "print(f\"Fraction of users with email (hireable) minus fraction of users with email (non-hireable): {email_fraction_difference:.3f}\")\n"
      ],
      "metadata": {
        "colab": {
          "base_uri": "https://localhost:8080/"
        },
        "id": "QQHcaOXWFg5T",
        "outputId": "2fe7d354-d210-46fc-d2ec-5e7e0c75f5d1"
      },
      "execution_count": null,
      "outputs": [
        {
          "output_type": "stream",
          "name": "stdout",
          "text": [
            "Fraction of users with email (hireable) minus fraction of users with email (non-hireable): nan\n"
          ]
        }
      ]
    },
    {
      "cell_type": "code",
      "source": [
        "import pandas as pd\n",
        "\n",
        "users_df = pd.read_csv('users.csv')\n",
        "hireable_users = users_df[users_df['hireable'] == True]\n",
        "hireable_with_email_fraction = hireable_users['email'].notnull().mean() if not hireable_users.empty else 0\n",
        "non_hireable_users = users_df[users_df['hireable'].isnull()]\n",
        "non_hireable_with_email_fraction = non_hireable_users['email'].notnull().mean() if not non_hireable_users.empty else 0\n",
        "email_fraction_difference = hireable_with_email_fraction - non_hireable_with_email_fraction\n",
        "print(f\"Fraction of users with email (hireable) minus fraction of users with email (non-hireable): {email_fraction_difference:.3f}\")\n"
      ],
      "metadata": {
        "colab": {
          "base_uri": "https://localhost:8080/"
        },
        "id": "X5uX7z72FtZo",
        "outputId": "eb372e83-b542-43ee-9bd9-9702900ec509"
      },
      "execution_count": null,
      "outputs": [
        {
          "output_type": "stream",
          "name": "stdout",
          "text": [
            "Fraction of users with email (hireable) minus fraction of users with email (non-hireable): 0.074\n"
          ]
        }
      ]
    },
    {
      "cell_type": "code",
      "source": [
        "import pandas as pd\n",
        "\n",
        "users_df = pd.read_csv('users.csv')\n",
        "hireable_users = users_df[users_df['hireable'] == True]\n",
        "avg_following_hireable = hireable_users['following'].mean() if not hireable_users.empty else 0\n",
        "non_hireable_users = users_df[users_df['hireable'].isnull()]\n",
        "avg_following_non_hireable = non_hireable_users['following'].mean() if not non_hireable_users.empty else 0\n",
        "following_difference = avg_following_hireable - avg_following_non_hireable\n",
        "print(f\"Average following (hireable) minus average following (non-hireable): {following_difference:.3f}\")\n"
      ],
      "metadata": {
        "colab": {
          "base_uri": "https://localhost:8080/"
        },
        "id": "YhuQXgPVF3Xb",
        "outputId": "a4dcdf0a-4f8c-4abe-8bd8-284e2005de12"
      },
      "execution_count": null,
      "outputs": [
        {
          "output_type": "stream",
          "name": "stdout",
          "text": [
            "Average following (hireable) minus average following (non-hireable): 142.854\n"
          ]
        }
      ]
    }
  ]
}